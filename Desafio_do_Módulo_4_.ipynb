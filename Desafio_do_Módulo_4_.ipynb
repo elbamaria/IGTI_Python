{
  "nbformat": 4,
  "nbformat_minor": 0,
  "metadata": {
    "colab": {
      "name": "Desafio do Módulo 4 .ipynb",
      "provenance": [],
      "collapsed_sections": [],
      "authorship_tag": "ABX9TyP/k5BRRFSkTcZGH3wXLyj9",
      "include_colab_link": true
    },
    "kernelspec": {
      "name": "python3",
      "display_name": "Python 3"
    },
    "language_info": {
      "name": "python"
    }
  },
  "cells": [
    {
      "cell_type": "markdown",
      "metadata": {
        "id": "view-in-github",
        "colab_type": "text"
      },
      "source": [
        "<a href=\"https://colab.research.google.com/github/elbamaria/IGTI_Python/blob/main/Desafio_do_M%C3%B3dulo_4_.ipynb\" target=\"_parent\"><img src=\"https://colab.research.google.com/assets/colab-badge.svg\" alt=\"Open In Colab\"/></a>"
      ]
    },
    {
      "cell_type": "markdown",
      "metadata": {
        "id": "CNwo3Ln8oD29"
      },
      "source": [
        "Bootcamp Desenvolvedor Python\n",
        "\n",
        "Desafio do Módulo 4"
      ]
    },
    {
      "cell_type": "code",
      "metadata": {
        "id": "lmT4Kd0voHHp"
      },
      "source": [
        "#Importando as bibliotecas\n",
        "\n",
        "import pandas as pd\n",
        "import matplotlib.pyplot as plt\n",
        "from sklearn.preprocessing import MinMaxScaler\n",
        "from sklearn.model_selection import train_test_split\n",
        "from sklearn.neighbors import KNeighborsClassifier\n",
        "from sklearn.metrics import confusion_matrix\n",
        "from mlxtend.plotting import plot_confusion_matrix\n",
        "from sklearn.tree import DecisionTreeClassifier\n",
        "from sklearn.ensemble import RandomForestClassifier\n",
        "from sklearn.svm import SVC\n",
        "from sklearn.neural_network import MLPClassifier\n",
        "from sklearn.metrics import classification_report, accuracy_score"
      ],
      "execution_count": 1,
      "outputs": []
    },
    {
      "cell_type": "code",
      "metadata": {
        "id": "q4oj7z5JoLHd"
      },
      "source": [
        "#Carregando dataset\n",
        "\n",
        "df= pd.read_csv('/content/doencas_coracao.csv')"
      ],
      "execution_count": 27,
      "outputs": []
    },
    {
      "cell_type": "code",
      "metadata": {
        "colab": {
          "base_uri": "https://localhost:8080/",
          "height": 226
        },
        "id": "Yx6147zuody7",
        "outputId": "6a8d48df-003e-4801-f34a-a798e9ee8ba5"
      },
      "source": [
        "#Visualizando o dataset\n",
        "\n",
        "df.head()"
      ],
      "execution_count": 41,
      "outputs": [
        {
          "output_type": "execute_result",
          "data": {
            "text/html": [
              "<div>\n",
              "<style scoped>\n",
              "    .dataframe tbody tr th:only-of-type {\n",
              "        vertical-align: middle;\n",
              "    }\n",
              "\n",
              "    .dataframe tbody tr th {\n",
              "        vertical-align: top;\n",
              "    }\n",
              "\n",
              "    .dataframe thead th {\n",
              "        text-align: right;\n",
              "    }\n",
              "</style>\n",
              "<table border=\"1\" class=\"dataframe\">\n",
              "  <thead>\n",
              "    <tr style=\"text-align: right;\">\n",
              "      <th></th>\n",
              "      <th>age</th>\n",
              "      <th>anaemia</th>\n",
              "      <th>creatinine_phosphokinase</th>\n",
              "      <th>diabetes</th>\n",
              "      <th>ejection_fraction</th>\n",
              "      <th>high_blood_pressure</th>\n",
              "      <th>platelets</th>\n",
              "      <th>serum_creatinine</th>\n",
              "      <th>serum_sodium</th>\n",
              "      <th>sex</th>\n",
              "      <th>smoking</th>\n",
              "      <th>time</th>\n",
              "      <th>DEATH_EVENT</th>\n",
              "    </tr>\n",
              "  </thead>\n",
              "  <tbody>\n",
              "    <tr>\n",
              "      <th>0</th>\n",
              "      <td>75.0</td>\n",
              "      <td>0</td>\n",
              "      <td>582</td>\n",
              "      <td>0</td>\n",
              "      <td>20</td>\n",
              "      <td>1</td>\n",
              "      <td>265000.00</td>\n",
              "      <td>1.9</td>\n",
              "      <td>130</td>\n",
              "      <td>1</td>\n",
              "      <td>0</td>\n",
              "      <td>4</td>\n",
              "      <td>1</td>\n",
              "    </tr>\n",
              "    <tr>\n",
              "      <th>1</th>\n",
              "      <td>55.0</td>\n",
              "      <td>0</td>\n",
              "      <td>7861</td>\n",
              "      <td>0</td>\n",
              "      <td>38</td>\n",
              "      <td>0</td>\n",
              "      <td>263358.03</td>\n",
              "      <td>1.1</td>\n",
              "      <td>136</td>\n",
              "      <td>1</td>\n",
              "      <td>0</td>\n",
              "      <td>6</td>\n",
              "      <td>1</td>\n",
              "    </tr>\n",
              "    <tr>\n",
              "      <th>2</th>\n",
              "      <td>65.0</td>\n",
              "      <td>0</td>\n",
              "      <td>146</td>\n",
              "      <td>0</td>\n",
              "      <td>20</td>\n",
              "      <td>0</td>\n",
              "      <td>162000.00</td>\n",
              "      <td>1.3</td>\n",
              "      <td>129</td>\n",
              "      <td>1</td>\n",
              "      <td>1</td>\n",
              "      <td>7</td>\n",
              "      <td>1</td>\n",
              "    </tr>\n",
              "    <tr>\n",
              "      <th>3</th>\n",
              "      <td>50.0</td>\n",
              "      <td>1</td>\n",
              "      <td>111</td>\n",
              "      <td>0</td>\n",
              "      <td>20</td>\n",
              "      <td>0</td>\n",
              "      <td>210000.00</td>\n",
              "      <td>1.9</td>\n",
              "      <td>137</td>\n",
              "      <td>1</td>\n",
              "      <td>0</td>\n",
              "      <td>7</td>\n",
              "      <td>1</td>\n",
              "    </tr>\n",
              "    <tr>\n",
              "      <th>4</th>\n",
              "      <td>65.0</td>\n",
              "      <td>1</td>\n",
              "      <td>160</td>\n",
              "      <td>1</td>\n",
              "      <td>20</td>\n",
              "      <td>0</td>\n",
              "      <td>327000.00</td>\n",
              "      <td>2.7</td>\n",
              "      <td>116</td>\n",
              "      <td>0</td>\n",
              "      <td>0</td>\n",
              "      <td>8</td>\n",
              "      <td>1</td>\n",
              "    </tr>\n",
              "  </tbody>\n",
              "</table>\n",
              "</div>"
            ],
            "text/plain": [
              "    age  anaemia  creatinine_phosphokinase  ...  smoking  time  DEATH_EVENT\n",
              "0  75.0        0                       582  ...        0     4            1\n",
              "1  55.0        0                      7861  ...        0     6            1\n",
              "2  65.0        0                       146  ...        1     7            1\n",
              "3  50.0        1                       111  ...        0     7            1\n",
              "4  65.0        1                       160  ...        0     8            1\n",
              "\n",
              "[5 rows x 13 columns]"
            ]
          },
          "metadata": {
            "tags": []
          },
          "execution_count": 41
        }
      ]
    },
    {
      "cell_type": "code",
      "metadata": {
        "id": "-okm8FLmomVj"
      },
      "source": [
        "#Verificando características do dataset\n",
        "\n",
        "df.info()"
      ],
      "execution_count": null,
      "outputs": []
    },
    {
      "cell_type": "code",
      "metadata": {
        "colab": {
          "base_uri": "https://localhost:8080/"
        },
        "id": "BNGlZuuyg9nw",
        "outputId": "7f5f6354-dcce-4051-cc2e-72fdb136aada"
      },
      "source": [
        "#Qual era a idade (age) média dos pacientes que faleceram (DEATH_EVENT=1)? \n",
        "\n",
        "df.loc[df['DEATH_EVENT'] == 1,'age'].mean()"
      ],
      "execution_count": 170,
      "outputs": [
        {
          "output_type": "execute_result",
          "data": {
            "text/plain": [
              "65.21528125"
            ]
          },
          "metadata": {
            "tags": []
          },
          "execution_count": 170
        }
      ]
    },
    {
      "cell_type": "code",
      "metadata": {
        "colab": {
          "base_uri": "https://localhost:8080/"
        },
        "id": "MC3DxjHVHPas",
        "outputId": "ae338622-211e-4e99-9a49-294b00e9a3d0"
      },
      "source": [
        "##Dentre os pacientes que sobreviveram (DEATH_EVENT=0), quantos são do sexo feminino (sex=0)? \n",
        "\n",
        "df.groupby(['sex', 'DEATH_EVENT']).size()"
      ],
      "execution_count": 117,
      "outputs": [
        {
          "output_type": "execute_result",
          "data": {
            "text/plain": [
              "sex  DEATH_EVENT\n",
              "0    0               71\n",
              "     1               34\n",
              "1    0              132\n",
              "     1               62\n",
              "dtype: int64"
            ]
          },
          "metadata": {
            "tags": []
          },
          "execution_count": 117
        }
      ]
    },
    {
      "cell_type": "code",
      "metadata": {
        "id": "X5ynqM5Yotr_"
      },
      "source": [
        "#Separando dados de entrada e de saída do dataset\n",
        "\n",
        "entradas = df.iloc[:,:-1].values\n",
        "saida=df['DEATH_EVENT'].values\n"
      ],
      "execution_count": 28,
      "outputs": []
    },
    {
      "cell_type": "code",
      "metadata": {
        "id": "eiWBz_JyruyY"
      },
      "source": [
        "#Normalizando o dataset\n",
        "\n",
        "normaliza = MinMaxScaler()#objeto para a normalização \n",
        "entradas_normalizadas = normaliza.fit_transform(entradas)"
      ],
      "execution_count": 29,
      "outputs": []
    },
    {
      "cell_type": "code",
      "metadata": {
        "id": "Ydd1WlR1r9nA"
      },
      "source": [
        "#Divisão do dataset em treinamento e teste\n",
        "\n",
        "X_train, X_test, y_train, y_test = train_test_split(entradas_normalizadas,saida,test_size=0.30,random_state=42)"
      ],
      "execution_count": 30,
      "outputs": []
    },
    {
      "cell_type": "code",
      "metadata": {
        "id": "xKrl3rZEsrnO"
      },
      "source": [
        "#Aplicando os algoritmos de classificação: KNN\n",
        "#Instanciando o classificador\n",
        "\n",
        "clf_KNN=KNeighborsClassifier(n_neighbors=5)\n",
        "\n"
      ],
      "execution_count": 31,
      "outputs": []
    },
    {
      "cell_type": "code",
      "metadata": {
        "colab": {
          "base_uri": "https://localhost:8080/"
        },
        "id": "_ERsbzpYuNSv",
        "outputId": "7d572dad-b0f1-4659-dfb6-d15ea7d9c715"
      },
      "source": [
        "#Aplicar na amostra de treinamento\n",
        "\n",
        "clf_KNN.fit(X_train, y_train)"
      ],
      "execution_count": 32,
      "outputs": [
        {
          "output_type": "execute_result",
          "data": {
            "text/plain": [
              "KNeighborsClassifier(algorithm='auto', leaf_size=30, metric='minkowski',\n",
              "                     metric_params=None, n_jobs=None, n_neighbors=5, p=2,\n",
              "                     weights='uniform')"
            ]
          },
          "metadata": {
            "tags": []
          },
          "execution_count": 32
        }
      ]
    },
    {
      "cell_type": "code",
      "metadata": {
        "id": "Ans8FjnNwN-e"
      },
      "source": [
        "##Testar o modelo, realizando a predição com a amostra de testes\n",
        "\n",
        "pred_knn = clf_KNN.predict(X_test)"
      ],
      "execution_count": 35,
      "outputs": []
    },
    {
      "cell_type": "code",
      "metadata": {
        "id": "nepnRd_Lwg-Y"
      },
      "source": [
        "#Medindo o desempenho desse algoritmo através da plotagem da Matriz de Confusão entre a variável conhecida y_test e a predita pred\n",
        "\n",
        "matriz_confusao = confusion_matrix(y_test, pred_knn)"
      ],
      "execution_count": 36,
      "outputs": []
    },
    {
      "cell_type": "code",
      "metadata": {
        "id": "8wi0ZDCXwm9m"
      },
      "source": [
        "#Plotando a matriz de confusão para análise\n",
        "\n",
        "fig, ax = plot_confusion_matrix(conf_mat = matriz_confusao)\n",
        "plt.show()"
      ],
      "execution_count": null,
      "outputs": []
    },
    {
      "cell_type": "code",
      "metadata": {
        "colab": {
          "base_uri": "https://localhost:8080/"
        },
        "id": "4yaFM9ACwrMR",
        "outputId": "c9922f47-1c93-4db8-8a03-8929dc0a6c68"
      },
      "source": [
        "#Após dividir as colunas do dataframe entre entrada e saída, aplicar a normalização dos dados como apresentado no enunciado (MinMaxScaler()) e dividir esses dados entre treinamento e teste, aplique o algoritmo KNN. Qual é, aproximadamente, a acurácia do modelo? \n",
        "\n",
        "print(classification_report(y_test, pred_knn))"
      ],
      "execution_count": 39,
      "outputs": [
        {
          "output_type": "stream",
          "text": [
            "              precision    recall  f1-score   support\n",
            "\n",
            "           0       0.61      0.96      0.74        53\n",
            "           1       0.67      0.11      0.19        37\n",
            "\n",
            "    accuracy                           0.61        90\n",
            "   macro avg       0.64      0.54      0.47        90\n",
            "weighted avg       0.63      0.61      0.51        90\n",
            "\n"
          ],
          "name": "stdout"
        }
      ]
    },
    {
      "cell_type": "code",
      "metadata": {
        "id": "Hf3ndGZqIYd8"
      },
      "source": [
        "#Aplicando os algoritmos de classificação: Algoritmo Árvore de Decisão\n",
        "#Instanciando o classificador\n",
        "\n",
        "clf_arvore=DecisionTreeClassifier(random_state=1)\n",
        "\n",
        "clf_arvore.fit(X_train, y_train)\n",
        "\n",
        "pred_arvore = clf_KNN.predict(X_test)"
      ],
      "execution_count": 118,
      "outputs": []
    },
    {
      "cell_type": "code",
      "metadata": {
        "colab": {
          "base_uri": "https://localhost:8080/"
        },
        "id": "BFBPc8NqImZf",
        "outputId": "9fefde7a-406e-4b3f-ab6f-3fb46d135104"
      },
      "source": [
        "#Medindo o desempenho desse algoritmo através da plotagem da Matriz de Confusão entre a variável conhecida y_test e a predita pred\n",
        "\n",
        "matriz_confusao = confusion_matrix(y_test, pred_arvore)\n",
        "\n",
        "#Após dividir as colunas do dataframe entre entrada e saída, aplicar a normalização dos dados como apresentado no enunciado (MinMaxScaler()) e dividir esses dados entre treinamento e teste, aplique o algoritmo KNN. Qual é, aproximadamente, a acurácia do modelo? \n",
        "\n",
        "print(classification_report(y_test, pred_arvore))"
      ],
      "execution_count": 119,
      "outputs": [
        {
          "output_type": "stream",
          "text": [
            "              precision    recall  f1-score   support\n",
            "\n",
            "           0       0.61      0.96      0.74        53\n",
            "           1       0.67      0.11      0.19        37\n",
            "\n",
            "    accuracy                           0.61        90\n",
            "   macro avg       0.64      0.54      0.47        90\n",
            "weighted avg       0.63      0.61      0.51        90\n",
            "\n"
          ],
          "name": "stdout"
        }
      ]
    },
    {
      "cell_type": "code",
      "metadata": {
        "id": "wrEzLdOHI6iI"
      },
      "source": [
        "#Aplicando os algoritmos de classificação: Algoritmo Rede ML\n",
        "#Instanciando o classificador\n",
        "\n",
        "clf_mlp=MLPClassifier(solver='lbfgs',alpha=1e-5,hidden_layer_sizes=(5,10),random_state=1)\n",
        "\n",
        "clf_mlp.fit(X_train, y_train)\n",
        "\n",
        "pred_mlp = clf_mlp.predict(X_test)"
      ],
      "execution_count": 120,
      "outputs": []
    },
    {
      "cell_type": "code",
      "metadata": {
        "colab": {
          "base_uri": "https://localhost:8080/"
        },
        "id": "vlZfFMarJIay",
        "outputId": "7a98a6bf-1828-4c9a-cc3e-07f85ffebc72"
      },
      "source": [
        "#Medindo o desempenho desse algoritmo através da plotagem da Matriz de Confusão entre a variável conhecida y_test e a predita pred\n",
        "\n",
        "matriz_confusao = confusion_matrix(y_test, pred_mlp)\n",
        "\n",
        "#Após dividir as colunas do dataframe entre entrada e saída, aplicar a normalização dos dados como apresentado no enunciado (MinMaxScaler()) e dividir esses dados entre treinamento e teste, aplique o algoritmo KNN. Qual é, aproximadamente, a acurácia do modelo? \n",
        "\n",
        "print(classification_report(y_test, pred_mlp))"
      ],
      "execution_count": 121,
      "outputs": [
        {
          "output_type": "stream",
          "text": [
            "              precision    recall  f1-score   support\n",
            "\n",
            "           0       0.68      0.96      0.80        53\n",
            "           1       0.87      0.35      0.50        37\n",
            "\n",
            "    accuracy                           0.71        90\n",
            "   macro avg       0.77      0.66      0.65        90\n",
            "weighted avg       0.76      0.71      0.67        90\n",
            "\n"
          ],
          "name": "stdout"
        }
      ]
    },
    {
      "cell_type": "code",
      "metadata": {
        "id": "DgwVt5WcQGe9"
      },
      "source": [
        "import time\n",
        "import random\n",
        "def contador():\n",
        "  x = 10**9\n",
        "  while x > 0:\n",
        "    x -= 1\n",
        "    # time.sleep(random.randint(1,20))\n",
        "\n",
        "\n",
        "def imple_sequencial():\n",
        "  contador()\n",
        "  contador()\n",
        "\n",
        "import threading\n",
        "def imple_concorrente():\n",
        "  t1 = threading.Thread(contador()) \n",
        "  t2 = threading.Thread(contador()) \n",
        "  t1.start() \n",
        "  t2.start()\n",
        "  t1.join()\n",
        "  t2.join()\n"
      ],
      "execution_count": 167,
      "outputs": []
    },
    {
      "cell_type": "code",
      "metadata": {
        "colab": {
          "base_uri": "https://localhost:8080/"
        },
        "id": "R6JGlppsdBb4",
        "outputId": "f270560a-9f82-4676-efe7-1e49b24c6964"
      },
      "source": [
        "#Sequencial\n",
        "\n",
        "ti = time.time()\n",
        "imple_sequencial()\n",
        "print(f'tempo de execução imple_sequencial { time.time() - ti }')"
      ],
      "execution_count": 168,
      "outputs": [
        {
          "output_type": "stream",
          "text": [
            "tempo de execução imple_sequencial 140.2066683769226\n"
          ],
          "name": "stdout"
        }
      ]
    },
    {
      "cell_type": "code",
      "metadata": {
        "colab": {
          "base_uri": "https://localhost:8080/"
        },
        "id": "yoU1LiJFdF10",
        "outputId": "acff98ad-cf69-4d22-addc-5cf13ca7654a"
      },
      "source": [
        "#Concorrente\n",
        "\n",
        "ti = time.time()\n",
        "imple_concorrente()\n",
        "print(f'tempo de execução imple_concorrente { time.time() - ti }')\n",
        "\n"
      ],
      "execution_count": 169,
      "outputs": [
        {
          "output_type": "stream",
          "text": [
            "tempo de execução imple_concorrente 135.29326152801514\n"
          ],
          "name": "stdout"
        }
      ]
    },
    {
      "cell_type": "markdown",
      "metadata": {
        "id": "EBxDkJDUdaaS"
      },
      "source": [
        "9. ops.filter(lambda i:i%2==0)\n"
      ]
    },
    {
      "cell_type": "code",
      "metadata": {
        "colab": {
          "base_uri": "https://localhost:8080/"
        },
        "id": "x41kQv3wSc2c",
        "outputId": "5d5bc67e-d1fa-47fe-f873-7013d06dd278"
      },
      "source": [
        "!pip install rx"
      ],
      "execution_count": 131,
      "outputs": [
        {
          "output_type": "stream",
          "text": [
            "Collecting rx\n",
            "\u001b[?25l  Downloading https://files.pythonhosted.org/packages/e2/a9/efeaeca4928a9a56d04d609b5730994d610c82cf4d9dd7aa173e6ef4233e/Rx-3.2.0-py3-none-any.whl (199kB)\n",
            "\r\u001b[K     |█▋                              | 10kB 13.8MB/s eta 0:00:01\r\u001b[K     |███▎                            | 20kB 9.8MB/s eta 0:00:01\r\u001b[K     |█████                           | 30kB 8.9MB/s eta 0:00:01\r\u001b[K     |██████▋                         | 40kB 7.2MB/s eta 0:00:01\r\u001b[K     |████████▎                       | 51kB 5.4MB/s eta 0:00:01\r\u001b[K     |█████████▉                      | 61kB 5.1MB/s eta 0:00:01\r\u001b[K     |███████████▌                    | 71kB 5.6MB/s eta 0:00:01\r\u001b[K     |█████████████▏                  | 81kB 6.1MB/s eta 0:00:01\r\u001b[K     |██████████████▉                 | 92kB 5.7MB/s eta 0:00:01\r\u001b[K     |████████████████▌               | 102kB 6.2MB/s eta 0:00:01\r\u001b[K     |██████████████████              | 112kB 6.2MB/s eta 0:00:01\r\u001b[K     |███████████████████▊            | 122kB 6.2MB/s eta 0:00:01\r\u001b[K     |█████████████████████▍          | 133kB 6.2MB/s eta 0:00:01\r\u001b[K     |███████████████████████         | 143kB 6.2MB/s eta 0:00:01\r\u001b[K     |████████████████████████▊       | 153kB 6.2MB/s eta 0:00:01\r\u001b[K     |██████████████████████████▎     | 163kB 6.2MB/s eta 0:00:01\r\u001b[K     |████████████████████████████    | 174kB 6.2MB/s eta 0:00:01\r\u001b[K     |█████████████████████████████▋  | 184kB 6.2MB/s eta 0:00:01\r\u001b[K     |███████████████████████████████▎| 194kB 6.2MB/s eta 0:00:01\r\u001b[K     |████████████████████████████████| 204kB 6.2MB/s \n",
            "\u001b[?25hInstalling collected packages: rx\n",
            "Successfully installed rx-3.2.0\n"
          ],
          "name": "stdout"
        }
      ]
    },
    {
      "cell_type": "code",
      "metadata": {
        "colab": {
          "base_uri": "https://localhost:8080/"
        },
        "id": "Z4nxVD1rYASf",
        "outputId": "c50c854a-ab1f-4935-f933-d366a2cbc3ec"
      },
      "source": [
        "#Utilizando os códigos presentes no enunciado deste desafio referentes às questões de programação reativa, se adicionarmos apenas as operações de map e filter abaixo, qual será o resultado?\n",
        "  \n",
        "  import rx\n",
        "  import rx.operators as ops\n",
        "\n",
        "\n",
        "  source=rx.from_iterable([5,4,3,2,1])\n",
        "\n",
        "  disposable=source.pipe(\n",
        "    ops.map(lambda i: i if i<3 else 0),\n",
        "    ops.filter(lambda i: i>0),\n",
        "    #ops.map(lambda i:i%2==0),\n",
        "    #ops.filter(lambda i: i%2==0)\n",
        "  ).subscribe(\n",
        "    on_next=lambda i: print(\"on_next: {}\".format(i)),\n",
        "    on_completed=lambda: print(\"on_completed\"),\n",
        "    on_error=lambda e:print(\"on_error: {}\".format(e))\n",
        ")\n",
        "\n",
        "disposable.dispose()"
      ],
      "execution_count": 162,
      "outputs": [
        {
          "output_type": "stream",
          "text": [
            "on_next: 2\n",
            "on_next: 1\n",
            "on_completed\n"
          ],
          "name": "stdout"
        }
      ]
    },
    {
      "cell_type": "code",
      "metadata": {
        "colab": {
          "base_uri": "https://localhost:8080/"
        },
        "id": "2z7FIumNUDWs",
        "outputId": "2a6bdb57-0d53-4e2b-d759-e866d6f697ca"
      },
      "source": [
        "#11. Será apresentado no “on_next” o segundo número da lista e um “on_erro”. \n",
        "\n",
        "import rx\n",
        "import rx.operators as ops\n",
        "\n",
        "#source = rx.from_iterable([5,4,3,2,1])\n",
        "source = rx.from_iterable([5,4,3,\"2\",1])\n",
        "\n",
        "disposable=source.pipe(\n",
        "    #ops.map(lambda i: i if i<3 else 0),\n",
        "    #ops.filter(lambda i: i>0),\n",
        "    #ops.map(lambda i:i%2==0),\n",
        "    ops.filter(lambda i: i%2==0),\n",
        ").subscribe(\n",
        "    on_next=lambda i: print(\"on_next: {}\".format(i)),\n",
        "    on_completed=lambda: print(\"on_completed\"),\n",
        "    on_error=lambda e:print(\"on_error: {}\".format(e))\n",
        ")\n",
        "\n",
        "disposable.dispose()"
      ],
      "execution_count": 139,
      "outputs": [
        {
          "output_type": "stream",
          "text": [
            "on_next: 4\n",
            "on_error: not all arguments converted during string formatting\n"
          ],
          "name": "stdout"
        }
      ]
    },
    {
      "cell_type": "code",
      "metadata": {
        "colab": {
          "base_uri": "https://localhost:8080/"
        },
        "id": "nI29HTz-jb84",
        "outputId": "25b324bf-a441-4bd4-b081-7ed4c02c074c"
      },
      "source": [
        "\n"
      ],
      "execution_count": 171,
      "outputs": [
        {
          "output_type": "stream",
          "text": [
            "Collecting pygame\n",
            "\u001b[?25l  Downloading https://files.pythonhosted.org/packages/4b/9e/c400554dd1d0e562bd4379f35ad5023c68fc120003a58991405850f56f95/pygame-2.0.1-cp37-cp37m-manylinux1_x86_64.whl (11.8MB)\n",
            "\u001b[K     |████████████████████████████████| 11.8MB 282kB/s \n",
            "\u001b[?25hInstalling collected packages: pygame\n",
            "Successfully installed pygame-2.0.1\n"
          ],
          "name": "stdout"
        }
      ]
    },
    {
      "cell_type": "code",
      "metadata": {
        "colab": {
          "base_uri": "https://localhost:8080/",
          "height": 264
        },
        "id": "in-8uYMvjkTW",
        "outputId": "e6692e1c-77cf-45d1-a889-0c2da6080850"
      },
      "source": [
        "import pygame\n",
        "from pygame.locals import *\n",
        "from sys import exit\n",
        "import os\n",
        "os.environ['SDL_VIDEODRIVER']='dummy'\n",
        "\n",
        "pygame.init()\n",
        "\n",
        "screen = pygame.display.set_mode((720,640))\n",
        "pygame.display.set_caption(\"Desafio-Módulo 4\")\n",
        "\n",
        "while True:\n",
        "    for event in pygame.event.get():\n",
        "        if event.type==QUIT:\n",
        "            pygame.quit()\n",
        "            exit()\n",
        "\n",
        "        screen.fill((255,0,255))\n",
        "        x,y = pygame.mouse.get_pos()\n",
        "        print(x,y)\n",
        "      \n",
        "    pygame.display.update()"
      ],
      "execution_count": 175,
      "outputs": [
        {
          "output_type": "stream",
          "text": [
            "0 0\n"
          ],
          "name": "stdout"
        },
        {
          "output_type": "error",
          "ename": "KeyboardInterrupt",
          "evalue": "ignored",
          "traceback": [
            "\u001b[0;31m---------------------------------------------------------------------------\u001b[0m",
            "\u001b[0;31mKeyboardInterrupt\u001b[0m                         Traceback (most recent call last)",
            "\u001b[0;32m<ipython-input-175-103efa648172>\u001b[0m in \u001b[0;36m<module>\u001b[0;34m()\u001b[0m\n\u001b[1;32m     11\u001b[0m \u001b[0;34m\u001b[0m\u001b[0m\n\u001b[1;32m     12\u001b[0m \u001b[0;32mwhile\u001b[0m \u001b[0;32mTrue\u001b[0m\u001b[0;34m:\u001b[0m\u001b[0;34m\u001b[0m\u001b[0;34m\u001b[0m\u001b[0m\n\u001b[0;32m---> 13\u001b[0;31m     \u001b[0;32mfor\u001b[0m \u001b[0mevent\u001b[0m \u001b[0;32min\u001b[0m \u001b[0mpygame\u001b[0m\u001b[0;34m.\u001b[0m\u001b[0mevent\u001b[0m\u001b[0;34m.\u001b[0m\u001b[0mget\u001b[0m\u001b[0;34m(\u001b[0m\u001b[0;34m)\u001b[0m\u001b[0;34m:\u001b[0m\u001b[0;34m\u001b[0m\u001b[0;34m\u001b[0m\u001b[0m\n\u001b[0m\u001b[1;32m     14\u001b[0m         \u001b[0;32mif\u001b[0m \u001b[0mevent\u001b[0m\u001b[0;34m.\u001b[0m\u001b[0mtype\u001b[0m\u001b[0;34m==\u001b[0m\u001b[0mQUIT\u001b[0m\u001b[0;34m:\u001b[0m\u001b[0;34m\u001b[0m\u001b[0;34m\u001b[0m\u001b[0m\n\u001b[1;32m     15\u001b[0m             \u001b[0mpygame\u001b[0m\u001b[0;34m.\u001b[0m\u001b[0mquit\u001b[0m\u001b[0;34m(\u001b[0m\u001b[0;34m)\u001b[0m\u001b[0;34m\u001b[0m\u001b[0;34m\u001b[0m\u001b[0m\n",
            "\u001b[0;31mKeyboardInterrupt\u001b[0m: "
          ]
        }
      ]
    }
  ]
}