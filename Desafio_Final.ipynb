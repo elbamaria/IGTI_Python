{
  "nbformat": 4,
  "nbformat_minor": 0,
  "metadata": {
    "colab": {
      "name": "Desafio_Final.ipynb",
      "provenance": [],
      "collapsed_sections": [],
      "authorship_tag": "ABX9TyOBO16AugBJDige8XgBUkOy",
      "include_colab_link": true
    },
    "kernelspec": {
      "name": "python3",
      "display_name": "Python 3"
    },
    "language_info": {
      "name": "python"
    }
  },
  "cells": [
    {
      "cell_type": "markdown",
      "metadata": {
        "id": "view-in-github",
        "colab_type": "text"
      },
      "source": [
        "<a href=\"https://colab.research.google.com/github/elbamaria/IGTI_Python/blob/main/Desafio_Final.ipynb\" target=\"_parent\"><img src=\"https://colab.research.google.com/assets/colab-badge.svg\" alt=\"Open In Colab\"/></a>"
      ]
    },
    {
      "cell_type": "code",
      "metadata": {
        "id": "Tl70PFkshlr2"
      },
      "source": [
        "#Importando as bibliotecas\n",
        "\n",
        "import pandas as pd\n",
        "import matplotlib.pyplot as plt\n",
        "import seaborn as sns\n",
        "from sklearn.preprocessing import MinMaxScaler\n",
        "from sklearn.model_selection import train_test_split\n",
        "from sklearn.neighbors import KNeighborsClassifier\n",
        "from sklearn.tree import DecisionTreeClassifier\n",
        "from sklearn.neural_network import MLPClassifier\n",
        "from sklearn.metrics import confusion_matrix\n",
        "from sklearn.metrics import classification_report, accuracy_score\n",
        "from sklearn.svm import SVC\n",
        "from mlxtend.plotting import plot_confusion_matrix"
      ],
      "execution_count": 29,
      "outputs": []
    },
    {
      "cell_type": "code",
      "metadata": {
        "id": "fLb9gKQBhqpN"
      },
      "source": [
        "#Carregando o dataset\n",
        "\n",
        "df = pd.read_csv('/content/pima-indians-diabetes.csv', names=['Pregnancies', 'Glucose', 'BloodPressure', 'SkinThickness', 'Insulin', 'BMI', 'DiabetesPedigreeFunction', 'Age', 'Outcome'])"
      ],
      "execution_count": 99,
      "outputs": []
    },
    {
      "cell_type": "code",
      "metadata": {
        "colab": {
          "base_uri": "https://localhost:8080/",
          "height": 206
        },
        "id": "Rp22yGWzht7M",
        "outputId": "c5daef6e-b5da-4741-d828-32f7e6bd3837"
      },
      "source": [
        "df.head()"
      ],
      "execution_count": 10,
      "outputs": [
        {
          "output_type": "execute_result",
          "data": {
            "text/html": [
              "<div>\n",
              "<style scoped>\n",
              "    .dataframe tbody tr th:only-of-type {\n",
              "        vertical-align: middle;\n",
              "    }\n",
              "\n",
              "    .dataframe tbody tr th {\n",
              "        vertical-align: top;\n",
              "    }\n",
              "\n",
              "    .dataframe thead th {\n",
              "        text-align: right;\n",
              "    }\n",
              "</style>\n",
              "<table border=\"1\" class=\"dataframe\">\n",
              "  <thead>\n",
              "    <tr style=\"text-align: right;\">\n",
              "      <th></th>\n",
              "      <th>Pregnancies</th>\n",
              "      <th>Glucose</th>\n",
              "      <th>BloodPressure</th>\n",
              "      <th>SkinThickness</th>\n",
              "      <th>Insulin</th>\n",
              "      <th>BMI</th>\n",
              "      <th>DiabetesPedigreeFunction</th>\n",
              "      <th>Age</th>\n",
              "      <th>Outcome</th>\n",
              "    </tr>\n",
              "  </thead>\n",
              "  <tbody>\n",
              "    <tr>\n",
              "      <th>0</th>\n",
              "      <td>6</td>\n",
              "      <td>148</td>\n",
              "      <td>72</td>\n",
              "      <td>35</td>\n",
              "      <td>0</td>\n",
              "      <td>33.6</td>\n",
              "      <td>0.627</td>\n",
              "      <td>50</td>\n",
              "      <td>1</td>\n",
              "    </tr>\n",
              "    <tr>\n",
              "      <th>1</th>\n",
              "      <td>1</td>\n",
              "      <td>85</td>\n",
              "      <td>66</td>\n",
              "      <td>29</td>\n",
              "      <td>0</td>\n",
              "      <td>26.6</td>\n",
              "      <td>0.351</td>\n",
              "      <td>31</td>\n",
              "      <td>0</td>\n",
              "    </tr>\n",
              "    <tr>\n",
              "      <th>2</th>\n",
              "      <td>8</td>\n",
              "      <td>183</td>\n",
              "      <td>64</td>\n",
              "      <td>0</td>\n",
              "      <td>0</td>\n",
              "      <td>23.3</td>\n",
              "      <td>0.672</td>\n",
              "      <td>32</td>\n",
              "      <td>1</td>\n",
              "    </tr>\n",
              "    <tr>\n",
              "      <th>3</th>\n",
              "      <td>1</td>\n",
              "      <td>89</td>\n",
              "      <td>66</td>\n",
              "      <td>23</td>\n",
              "      <td>94</td>\n",
              "      <td>28.1</td>\n",
              "      <td>0.167</td>\n",
              "      <td>21</td>\n",
              "      <td>0</td>\n",
              "    </tr>\n",
              "    <tr>\n",
              "      <th>4</th>\n",
              "      <td>0</td>\n",
              "      <td>137</td>\n",
              "      <td>40</td>\n",
              "      <td>35</td>\n",
              "      <td>168</td>\n",
              "      <td>43.1</td>\n",
              "      <td>2.288</td>\n",
              "      <td>33</td>\n",
              "      <td>1</td>\n",
              "    </tr>\n",
              "  </tbody>\n",
              "</table>\n",
              "</div>"
            ],
            "text/plain": [
              "   Pregnancies  Glucose  BloodPressure  ...  DiabetesPedigreeFunction  Age  Outcome\n",
              "0            6      148             72  ...                     0.627   50        1\n",
              "1            1       85             66  ...                     0.351   31        0\n",
              "2            8      183             64  ...                     0.672   32        1\n",
              "3            1       89             66  ...                     0.167   21        0\n",
              "4            0      137             40  ...                     2.288   33        1\n",
              "\n",
              "[5 rows x 9 columns]"
            ]
          },
          "metadata": {
            "tags": []
          },
          "execution_count": 10
        }
      ]
    },
    {
      "cell_type": "code",
      "metadata": {
        "colab": {
          "base_uri": "https://localhost:8080/"
        },
        "id": "LEcCN8FtjheA",
        "outputId": "132ce86a-33b3-4581-cc05-b1e32d21e659"
      },
      "source": [
        "#Sobre as quantidades de instâncias e características presentes no dataset, é CORRETO afirmar: \n",
        "#Considerando apenas a carta utilizando o módulo pandas, quantos tipos de dados diferentes existem no dataset? \n",
        "\n",
        "df.info()"
      ],
      "execution_count": 11,
      "outputs": [
        {
          "output_type": "stream",
          "text": [
            "<class 'pandas.core.frame.DataFrame'>\n",
            "RangeIndex: 768 entries, 0 to 767\n",
            "Data columns (total 9 columns):\n",
            " #   Column                    Non-Null Count  Dtype  \n",
            "---  ------                    --------------  -----  \n",
            " 0   Pregnancies               768 non-null    int64  \n",
            " 1   Glucose                   768 non-null    int64  \n",
            " 2   BloodPressure             768 non-null    int64  \n",
            " 3   SkinThickness             768 non-null    int64  \n",
            " 4   Insulin                   768 non-null    int64  \n",
            " 5   BMI                       768 non-null    float64\n",
            " 6   DiabetesPedigreeFunction  768 non-null    float64\n",
            " 7   Age                       768 non-null    int64  \n",
            " 8   Outcome                   768 non-null    int64  \n",
            "dtypes: float64(2), int64(7)\n",
            "memory usage: 54.1 KB\n"
          ],
          "name": "stdout"
        }
      ]
    },
    {
      "cell_type": "code",
      "metadata": {
        "colab": {
          "base_uri": "https://localhost:8080/"
        },
        "id": "FWqGiYyEy_Av",
        "outputId": "8711e966-81aa-4310-ff9d-5cd99094c2ce"
      },
      "source": [
        "#Qual é a idade (coluna 7) média dos pacientes que são diabéticos (coluna 8=1)? \n",
        "\n",
        "df.loc[df['Outcome'] == 1,'Age'].mean()"
      ],
      "execution_count": 77,
      "outputs": [
        {
          "output_type": "execute_result",
          "data": {
            "text/plain": [
              "37.06716417910448"
            ]
          },
          "metadata": {
            "tags": []
          },
          "execution_count": 77
        }
      ]
    },
    {
      "cell_type": "code",
      "metadata": {
        "colab": {
          "base_uri": "https://localhost:8080/"
        },
        "id": "aDUtIzYe0NKC",
        "outputId": "5f1e38b6-e7c4-406a-b645-ab62b6ec1f35"
      },
      "source": [
        "#Dentre os pacientes que NÃO tiveram diabetes (coluna 8 =0), qual é o número máximo de gestações (coluna 0) existentes? \n",
        "\n",
        "df.loc[df['Outcome'] == 0,'Pregnancies'].max()\n",
        "\n",
        "#max(df[df['Outcome'] == 0]['Pregnancies'])"
      ],
      "execution_count": 78,
      "outputs": [
        {
          "output_type": "execute_result",
          "data": {
            "text/plain": [
              "13"
            ]
          },
          "metadata": {
            "tags": []
          },
          "execution_count": 78
        }
      ]
    },
    {
      "cell_type": "code",
      "metadata": {
        "colab": {
          "base_uri": "https://localhost:8080/"
        },
        "id": "9OAxXrwl0Y61",
        "outputId": "ab11bc20-6aab-4470-eb18-7e2c0eaeba82"
      },
      "source": [
        "#Qual é a afirmação CORRETA sobre o valor 3,0 para a característica número de gestações (coluna 0)? \n",
        "#Indica que 50% dos valores presentes nessa coluna são maiores que 3. \n",
        "\n",
        "df['Pregnancies'].describe()"
      ],
      "execution_count": 100,
      "outputs": [
        {
          "output_type": "execute_result",
          "data": {
            "text/plain": [
              "count    768.000000\n",
              "mean       3.845052\n",
              "std        3.369578\n",
              "min        0.000000\n",
              "25%        1.000000\n",
              "50%        3.000000\n",
              "75%        6.000000\n",
              "max       17.000000\n",
              "Name: Pregnancies, dtype: float64"
            ]
          },
          "metadata": {
            "tags": []
          },
          "execution_count": 100
        }
      ]
    },
    {
      "cell_type": "code",
      "metadata": {
        "colab": {
          "base_uri": "https://localhost:8080/"
        },
        "id": "gnGvms405i4A",
        "outputId": "eb1b5e8e-99a7-4766-f332-88c27f87825a"
      },
      "source": [
        "#Antes de normalizar, qual é o valor da mediana presente na coluna concentração de glicose (coluna 1)? \n",
        "\n",
        "df['Glucose'].median()"
      ],
      "execution_count": 101,
      "outputs": [
        {
          "output_type": "execute_result",
          "data": {
            "text/plain": [
              "117.0"
            ]
          },
          "metadata": {
            "tags": []
          },
          "execution_count": 101
        }
      ]
    },
    {
      "cell_type": "code",
      "metadata": {
        "id": "hhRk3FidjtaX"
      },
      "source": [
        "#Aprendizagem supervisionada\n",
        "\n",
        "#Separando as features (dados de entrada)\n",
        "\n",
        "entradas = df.iloc[:, :-1].values  #todas as linhas, e todas as colunas menos a última \n",
        "saida = df.iloc[:, 8].values  #todas as linhas da última coluna"
      ],
      "execution_count": 91,
      "outputs": []
    },
    {
      "cell_type": "code",
      "metadata": {
        "id": "T8j8E1OXjvql"
      },
      "source": [
        "#Normalizando os dados de entrada\n",
        "\n",
        "normaliza = MinMaxScaler()\n",
        "entradas_normalizadas = normaliza.fit_transform(entradas) "
      ],
      "execution_count": 92,
      "outputs": []
    },
    {
      "cell_type": "code",
      "metadata": {
        "id": "SUsiqtgXjxwg"
      },
      "source": [
        "#Separando 30% da amostra para dados de teste/validação\n",
        "\n",
        "X_train, X_test, y_train, y_test = train_test_split(entradas_normalizadas, saida, test_size=0.30,random_state=42);"
      ],
      "execution_count": 14,
      "outputs": []
    },
    {
      "cell_type": "code",
      "metadata": {
        "id": "29KxVX76j2Q-"
      },
      "source": [
        "#Utilizando outro classificador: KNN, árvore de decisão e Rede MLP\n",
        "\n",
        "#clf_KNN=KNeighborsClassifier(n_neighbors=5)\n",
        "\n",
        "#clf_arvore=DecisionTreeClassifier(random_state=1)\n",
        "\n",
        "clf_mlp=MLPClassifier(solver='lbfgs', alpha=1e-5, hidden_layer_sizes=(5, 10), random_state=1)"
      ],
      "execution_count": 39,
      "outputs": []
    },
    {
      "cell_type": "code",
      "metadata": {
        "colab": {
          "base_uri": "https://localhost:8080/"
        },
        "id": "DWRCDw5bkZ1m",
        "outputId": "58f06b0d-19d9-44f8-940c-83579e114ef2"
      },
      "source": [
        "#Aplicando o classificador na amostra de treinamento\n",
        "\n",
        "clf_mlp.fit(X_train,y_train)\n"
      ],
      "execution_count": 36,
      "outputs": [
        {
          "output_type": "execute_result",
          "data": {
            "text/plain": [
              "DecisionTreeClassifier(ccp_alpha=0.0, class_weight=None, criterion='gini',\n",
              "                       max_depth=None, max_features=None, max_leaf_nodes=None,\n",
              "                       min_impurity_decrease=0.0, min_impurity_split=None,\n",
              "                       min_samples_leaf=1, min_samples_split=2,\n",
              "                       min_weight_fraction_leaf=0.0, presort='deprecated',\n",
              "                       random_state=1, splitter='best')"
            ]
          },
          "metadata": {
            "tags": []
          },
          "execution_count": 36
        }
      ]
    },
    {
      "cell_type": "code",
      "metadata": {
        "id": "pm-3vBY7kfAt"
      },
      "source": [
        "#Realizando predição\n",
        "\n",
        "pred_mlp=clf_mlp.predict(X_test)"
      ],
      "execution_count": 37,
      "outputs": []
    },
    {
      "cell_type": "code",
      "metadata": {
        "colab": {
          "base_uri": "https://localhost:8080/"
        },
        "id": "wrXRptkLkkHP",
        "outputId": "3739fa34-ebc3-4520-c1e4-19c1738a95a4"
      },
      "source": [
        "print(\"Acurácia: {}\".format(accuracy_score(y_test, pred_mlp)))\n",
        "print(classification_report(y_test, pred_mlp))"
      ],
      "execution_count": 96,
      "outputs": [
        {
          "output_type": "stream",
          "text": [
            "Acurácia: 0.7445887445887446\n",
            "              precision    recall  f1-score   support\n",
            "\n",
            "           0       0.79      0.82      0.81       151\n",
            "           1       0.64      0.60      0.62        80\n",
            "\n",
            "    accuracy                           0.74       231\n",
            "   macro avg       0.72      0.71      0.71       231\n",
            "weighted avg       0.74      0.74      0.74       231\n",
            "\n"
          ],
          "name": "stdout"
        }
      ]
    },
    {
      "cell_type": "markdown",
      "metadata": {
        "id": "Omc5VxWok0Or"
      },
      "source": [
        "KNN: 0.68\n",
        "\n",
        "Árvore de decisão: 0.70\n",
        "\n",
        "MLP: 0.74 (escolhido)"
      ]
    },
    {
      "cell_type": "code",
      "metadata": {
        "colab": {
          "base_uri": "https://localhost:8080/"
        },
        "id": "eioZuzOfpqxy",
        "outputId": "d9188e25-340d-49e5-b72b-01d5944cd45f"
      },
      "source": [
        "import joblib\n",
        "\n",
        "# salvando o modelo no disco\n",
        "nome_do_arquivo = 'pred_mlp.sav' \n",
        "melhor_modelo = pred_mlp\n",
        "joblib.dump(melhor_modelo, nome_do_arquivo)"
      ],
      "execution_count": 69,
      "outputs": [
        {
          "output_type": "execute_result",
          "data": {
            "text/plain": [
              "['pred_mlp.sav']"
            ]
          },
          "metadata": {
            "tags": []
          },
          "execution_count": 69
        }
      ]
    },
    {
      "cell_type": "code",
      "metadata": {
        "id": "tNX6U5OMqoes"
      },
      "source": [
        "#Carregando o arquivo\n",
        "\n",
        "modelo_salvo = joblib.load(nome_do_arquivo)"
      ],
      "execution_count": 70,
      "outputs": []
    },
    {
      "cell_type": "markdown",
      "metadata": {
        "id": "b3Te3ca3HoUx"
      },
      "source": [
        "10_ Analisando o código HTML presente neste desafio, o que é INCORRETO dizer sobre a tag HTML? \n",
        "- Está implementada de maneira equivocada, pois não está acompanhada da tag “end“.\n",
        "\n",
        "11_ Sobre o código HTML presente neste desafio, é INCORRETO afirmar: \n",
        "- Como o HTML trabalha com textos, não é necessário converter as entradas em valores numéricos, para serem utilizados no modelo de aprendizado de máquina.\n",
        "\n",
        "12_ Qual é a função das linhas 14 e 18 no código presente na Figura 5? \n",
        "- Indica qual URL deve chamar a função desejada.\n",
        "\n",
        "13_ Qual é o principal papel das linhas 33 e 34 no código presente na Figura 5?\n",
        "\n",
        "\n",
        "14_ Qual é a ação executada pela linha 23, presente na Figura 5? \n",
        "- Criar um objeto mutável a partir do mapeamento de um iterable.\n",
        "\n",
        "15_ Qual das alternativas abaixo melhor explica o funcionamento final da junção de todos os códigos presentes neste desafio? \n",
        "- Capturar dados através de um formulário HTML, aplicar previsão a partir de um modelo e retornar a resposta via web.\n"
      ]
    }
  ]
}